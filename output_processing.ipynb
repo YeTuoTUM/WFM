{
 "cells": [
  {
   "cell_type": "markdown",
   "id": "6441d395",
   "metadata": {},
   "source": [
    "### 1. Extract Hru size from output.std to reproduce the SWAT Check table"
   ]
  },
  {
   "cell_type": "code",
   "execution_count": 1,
   "id": "74a915ec",
   "metadata": {
    "scrolled": true
   },
   "outputs": [],
   "source": [
    "### Hru size\n",
    "import pandas as pd\n",
    "\n",
    "def HRUsize(file_path, str1, str2):\n",
    "    lines = []\n",
    "    found_str1 = False\n",
    "\n",
    "    with open(file_path, 'r') as file:\n",
    "        for line in file:\n",
    "            line = line.strip()  # Remove leading/trailing whitespaces\n",
    "            \n",
    "            # Skip blank lines\n",
    "            if not line:\n",
    "                continue\n",
    "            \n",
    "            # If str1 is found, start storing lines\n",
    "            if str1 in line:\n",
    "                found_str1 = True\n",
    "                continue  # Skip storing str1 itself\n",
    "            \n",
    "            # If str2 is found, stop storing lines\n",
    "            if str2 in line and found_str1:\n",
    "                break\n",
    "            \n",
    "            # Store lines if str1 has been found\n",
    "            if found_str1:\n",
    "                # Split the line into columns based on the tab delimiter\n",
    "                columns = line.split()\n",
    "                lines.append(columns)\n",
    "    \n",
    "    column_names = lines[0]\n",
    "    # Create a DataFrame from the stored lines\n",
    "    df = pd.DataFrame(lines[1:],columns=column_names)\n",
    "    size=df['AREAkm2']\n",
    "    size = size.astype(float)\n",
    "    return size\n",
    "\n",
    "# Example to run:\n",
    "file_path = 'output.std'\n",
    "str1 = 'AVE ANNUAL VALUES'\n",
    "str2 = 'AVE MONTHLY BASIN VALUES'\n",
    "size =HRUsize(file_path, str1, str2)"
   ]
  },
  {
   "cell_type": "code",
   "execution_count": null,
   "id": "3c78cc17",
   "metadata": {},
   "outputs": [],
   "source": []
  },
  {
   "cell_type": "markdown",
   "id": "3bb0f7de",
   "metadata": {},
   "source": [
    "### 2. Extract target variable from output.hru"
   ]
  },
  {
   "cell_type": "code",
   "execution_count": 2,
   "id": "a498bc3d",
   "metadata": {},
   "outputs": [
    {
     "data": {
      "text/plain": [
       "'\\nprint(\"Month DataFrame:\")\\nprint(month_df)\\nprint(\"\\nYear DataFrame:\")\\nprint(year_df)\\nprint(\"\\nAna Avr DataFrame:\")\\nprint(ana_avr_df)\\n'"
      ]
     },
     "execution_count": 2,
     "metadata": {},
     "output_type": "execute_result"
    }
   ],
   "source": [
    "### to student v1: output hru\n",
    "def process_data(file_path, n_Y, n_hru, skip_lines, feature_to_extract):\n",
    "    # Initialize an empty list to store data\n",
    "    data = []\n",
    "\n",
    "    # Open the file and read line by line, skipping the first 9 lines\n",
    "    with open(file_path, 'r') as file:\n",
    "        for _ in range(skip_lines):\n",
    "            next(file)  # Skip lines\n",
    "\n",
    "        # Read the remaining lines\n",
    "        for line in file:\n",
    "            # Split the line based on space delimiter\n",
    "            split_line = line.split()\n",
    "            # Append the split line to data\n",
    "            data.append(split_line)\n",
    "\n",
    "    # Create a DataFrame from the data\n",
    "    df = pd.DataFrame(data)\n",
    "\n",
    "    # Select specific columns from the DataFrame\n",
    "    target_df = df.iloc[:, feature_to_extract].copy()\n",
    "    target_df.rename(columns={0: 'LUC', 1: 'HRU', 3: 'SUB',12:'SW', 69: 'BIOM', 71: 'YLD'}, inplace=True)\n",
    "    ana_avr_df = target_df.tail(n_hru)\n",
    "\n",
    "    # Initialize an empty list to store DataFrames\n",
    "    dfs = []\n",
    "    year_df = target_df.copy()[:-n_hru]  # Make a copy for month_df\n",
    "\n",
    "    # Loop over n_Y and create DataFrames for each year\n",
    "    for i in range(n_Y):\n",
    "        # Extract rows for the current year\n",
    "        new_df_indices = range((13 * i * n_hru), ((13 * (i + 1) - 1) * n_hru))\n",
    "        new_df = target_df.iloc[new_df_indices]\n",
    "        \n",
    "        # Remove the rows for the current year from month_df\n",
    "        year_df =year_df.drop(new_df_indices)\n",
    "       \n",
    "        # Append the DataFrame for the current year to the list\n",
    "        new_df.reset_index(drop=True, inplace=True)\n",
    "        dfs.append(new_df)\n",
    "\n",
    "    # Concatenate all DataFrames in the list for year_df\n",
    "    year_df.reset_index(drop=True, inplace=True)\n",
    "    ana_avr_df.reset_index(drop=True, inplace=True)\n",
    "    ana_avr_df = ana_avr_df.astype({'SUB':int,'HRU':int,'SW':float,'BIOM': float, 'YLD': float})  \n",
    "    month_df = pd.concat(dfs, ignore_index=True)\n",
    "    month_df= month_df.astype({'SUB':int,'HRU':int,'SW':float,'BIOM': float, 'YLD': float})\n",
    "    month_list = dfs\n",
    "    return month_df,month_list,year_df, ana_avr_df\n",
    "\n",
    "# Example\n",
    "# MAIN for OUTPUT HRU dataframe extraction\n",
    "file_path = 'output.hru'\n",
    "n_Y = 4\n",
    "n_hru = 69\n",
    "skip_lines = 9\n",
    "feature_to_extract=[0, 1, 3, 12 ,69, 71]##lai 70\n",
    "month_df,month_list, year_df, ana_avr_df= process_data(file_path, n_Y, n_hru, skip_lines,feature_to_extract)\n",
    "'''\n",
    "print(\"Month DataFrame:\")\n",
    "print(month_df)\n",
    "print(\"\\nYear DataFrame:\")\n",
    "print(year_df)\n",
    "print(\"\\nAna Avr DataFrame:\")\n",
    "print(ana_avr_df)\n",
    "'''"
   ]
  },
  {
   "cell_type": "code",
   "execution_count": null,
   "id": "f686c951",
   "metadata": {},
   "outputs": [],
   "source": []
  },
  {
   "cell_type": "markdown",
   "id": "a7327f08",
   "metadata": {},
   "source": [
    "### 3. Extract target variable from output.mgt"
   ]
  },
  {
   "cell_type": "code",
   "execution_count": 3,
   "id": "f1885d98",
   "metadata": {},
   "outputs": [],
   "source": [
    "##OUTPUT MGT\n",
    "##extract mgt plant data\n",
    "\n",
    "def read_lines_with_string(file_path, search_string):\n",
    "    # List to store lines containing the search string\n",
    "    lines_containing_string = []\n",
    "\n",
    "    # Open the file and iterate over its lines\n",
    "    with open(file_path, \"r\") as file:\n",
    "        for line in file:\n",
    "            # Check if the search string is present in the line\n",
    "            if search_string in line:\n",
    "                # If found, append the line to the list\n",
    "                columns = line.split()\n",
    "                lines_containing_string.append(columns)\n",
    "        \n",
    "    lines= lines_containing_string[n_hru*SKY:]         \n",
    "\n",
    "    # Create a DataFrame from the lines containing the search string\n",
    "    df = pd.DataFrame(lines)\n",
    "    target_df = df.iloc[:, feature_to_extract].copy()\n",
    "    target_df.rename(columns={0: 'SUB', 1: 'HRU', 2: 'YEAR',5:'AREA', 6:'LUC',11:'BIOM',15: 'YLD'}, inplace=True)\n",
    "    target_df= target_df.astype({'SUB':int,'HRU':int,'BIOM': float, 'YLD': float})\n",
    "    return target_df\n",
    "\n",
    "# Example:\n",
    "SKY=2\n",
    "feature_to_extract=[0, 1, 2, 5, 6,11, 15]\n",
    "file_path = 'output.mgt'\n",
    "search_string = \"HARV\"\n",
    "harv_df= read_lines_with_string(file_path, search_string)\n"
   ]
  },
  {
   "cell_type": "code",
   "execution_count": null,
   "id": "63381ae9",
   "metadata": {},
   "outputs": [],
   "source": []
  },
  {
   "cell_type": "markdown",
   "id": "5b535938",
   "metadata": {},
   "source": [
    "### 4. Evaluate SWAT-Check based output.hru"
   ]
  },
  {
   "cell_type": "code",
   "execution_count": 5,
   "id": "13f2849c",
   "metadata": {},
   "outputs": [
    {
     "data": {
      "text/html": [
       "<div>\n",
       "<style scoped>\n",
       "    .dataframe tbody tr th:only-of-type {\n",
       "        vertical-align: middle;\n",
       "    }\n",
       "\n",
       "    .dataframe tbody tr th {\n",
       "        vertical-align: top;\n",
       "    }\n",
       "\n",
       "    .dataframe thead th {\n",
       "        text-align: right;\n",
       "    }\n",
       "</style>\n",
       "<table border=\"1\" class=\"dataframe\">\n",
       "  <thead>\n",
       "    <tr style=\"text-align: right;\">\n",
       "      <th></th>\n",
       "      <th>BIOM</th>\n",
       "      <th>YLD</th>\n",
       "      <th>AREAkm2</th>\n",
       "    </tr>\n",
       "    <tr>\n",
       "      <th>LUC</th>\n",
       "      <th></th>\n",
       "      <th></th>\n",
       "      <th></th>\n",
       "    </tr>\n",
       "  </thead>\n",
       "  <tbody>\n",
       "    <tr>\n",
       "      <th>AGRR</th>\n",
       "      <td>0.0000</td>\n",
       "      <td>0.0</td>\n",
       "      <td>115.500</td>\n",
       "    </tr>\n",
       "    <tr>\n",
       "      <th>BERM</th>\n",
       "      <td>1622.9730</td>\n",
       "      <td>0.0</td>\n",
       "      <td>31.914</td>\n",
       "    </tr>\n",
       "    <tr>\n",
       "      <th>FRST</th>\n",
       "      <td>51095.5769</td>\n",
       "      <td>0.0</td>\n",
       "      <td>79.678</td>\n",
       "    </tr>\n",
       "    <tr>\n",
       "      <th>PAST</th>\n",
       "      <td>936.0320</td>\n",
       "      <td>0.0</td>\n",
       "      <td>94.000</td>\n",
       "    </tr>\n",
       "  </tbody>\n",
       "</table>\n",
       "</div>"
      ],
      "text/plain": [
       "            BIOM  YLD  AREAkm2\n",
       "LUC                           \n",
       "AGRR      0.0000  0.0  115.500\n",
       "BERM   1622.9730  0.0   31.914\n",
       "FRST  51095.5769  0.0   79.678\n",
       "PAST    936.0320  0.0   94.000"
      ]
     },
     "execution_count": 5,
     "metadata": {},
     "output_type": "execute_result"
    }
   ],
   "source": [
    "# Calculate average values grouped by 'LU' category\n",
    "avg_values = ana_avr_df.groupby('LUC').mean()\n",
    "\n",
    "# consider size\n",
    "dfwithsize=ana_avr_df[['BIOM','YLD']].mul(size,axis=0)*100\n",
    "id_df=ana_avr_df['LUC']\n",
    "id_df.reset_index(drop=True, inplace=True)\n",
    "df_combined = pd.concat([id_df, dfwithsize,size], axis=1)\n",
    "df_combined.groupby('LUC').sum()"
   ]
  },
  {
   "cell_type": "code",
   "execution_count": null,
   "id": "e87650a5",
   "metadata": {},
   "outputs": [],
   "source": []
  }
 ],
 "metadata": {
  "kernelspec": {
   "display_name": "Python 3 (ipykernel)",
   "language": "python",
   "name": "python3"
  },
  "language_info": {
   "codemirror_mode": {
    "name": "ipython",
    "version": 3
   },
   "file_extension": ".py",
   "mimetype": "text/x-python",
   "name": "python",
   "nbconvert_exporter": "python",
   "pygments_lexer": "ipython3",
   "version": "3.8.17"
  }
 },
 "nbformat": 4,
 "nbformat_minor": 5
}
