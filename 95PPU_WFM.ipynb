{
 "cells": [
  {
   "cell_type": "markdown",
   "id": "d3f72e86",
   "metadata": {},
   "source": [
    "## This script is a simplifid version for you to learn the calculation process of 95PPU.\n",
    "## An encapsulated version will be shared through ZOOM channel afterwards."
   ]
  },
  {
   "cell_type": "code",
   "execution_count": null,
   "id": "3372f202",
   "metadata": {},
   "outputs": [],
   "source": [
    "# import the library. install them if not yet\n",
    "import os\n",
    "import numpy as np\n",
    "import pandas as pd\n",
    "import matplotlib.pyplot as plt\n",
    "import seaborn as sns"
   ]
  },
  {
   "cell_type": "markdown",
   "id": "2096c134",
   "metadata": {},
   "source": [
    "## 1. Block 1, we look into the process for the 95PPU(95% Prediction Uncertainty) calculation step by step:\n",
    "\n",
    "- 1.1. [cacluate 95PPU (95% Prediction Uncertainty)](#step1.1)\n",
    "    - calculate_prediction_interval\n",
    "- 1.2. [read in data](#step1.2)\n",
    "    - read_data\n",
    "- 1.3. [rearrange the data](#step1.3)\n",
    "    - rearrange_data\n",
    "- 1.4. [apply the calculate_prediction_interval to the df data](#step1.4)\n",
    "- 1.5. [plot the ppu curve](#step1.5)\n",
    "    - plot_ppu\n",
    "- 1.6. [preparation for batch processing](#step1.6)\n",
    "    - get_files"
   ]
  },
  {
   "cell_type": "markdown",
   "id": "6c9be8c3",
   "metadata": {},
   "source": [
    "### 1.1. cacluate 95PPU (95% Prediction Uncertainty) <a name=\"step 1.1\"></a>\n",
    "- calculate_prediction_interval"
   ]
  },
  {
   "cell_type": "code",
   "execution_count": null,
   "id": "92869dc1",
   "metadata": {},
   "outputs": [],
   "source": [
    "def calculate_prediction_interval(data):\n",
    "    # Assuming 'data' is a list or numpy array containing the data points\n",
    "    mean = np.mean(data)\n",
    "    std_dev = np.std(data)\n",
    "    n = len(data)\n",
    "    z_score = 1.96  # For 95% confidence level\n",
    "    sem = std_dev / np.sqrt(n)  # Standard error of the mean (SEM)\n",
    "    lower_bound = mean - z_score * sem\n",
    "    upper_bound = mean + z_score * sem\n",
    "    return lower_bound, upper_bound\n",
    "\n",
    "# Example:\n",
    "data_row = [10, 12, 14, 15, 16, 18, 20]  # Example data \n",
    "lower_bound, upper_bound = calculate_prediction_interval(data_row)\n",
    "print(f\"95% Prediction Interval: [{lower_bound}, {upper_bound}]\")\n"
   ]
  },
  {
   "cell_type": "markdown",
   "id": "bffa8b56",
   "metadata": {},
   "source": [
    "### 1. 2. read in data <a name=\"step1.2\"></a>\n",
    "- read_data"
   ]
  },
  {
   "cell_type": "code",
   "execution_count": null,
   "id": "5b81b016",
   "metadata": {},
   "outputs": [],
   "source": [
    "def read_data(folder_path, file):\n",
    "    with open(os.path.join(folder_path, file), 'r') as file:\n",
    "        data = file.readlines()\n",
    "    return data\n",
    "\n",
    "# Example:\n",
    "folder = 'D:\\Python\\Code\\Lecture\\WFM_PRE\\AnalysisSWAT\\CUP95'\n",
    "file = 'SW_1.txt'\n",
    "data = read_data(folder, file)\n",
    "print(data)"
   ]
  },
  {
   "cell_type": "markdown",
   "id": "9147f02b",
   "metadata": {},
   "source": [
    "### 1.3. rearrange the data  <a name=\"step1.3\"></a>\n",
    "- rearrange_data: rearrange the data into a DataFrame\\\n",
    "please open the 'SW_1.txt' with a text editor.\n",
    "    - what is the data stucture?\n",
    "    - what is your target?\n",
    "    - what do you want to keep?\n",
    "- Do you have an idea to rearrange or extract the data?"
   ]
  },
  {
   "cell_type": "code",
   "execution_count": null,
   "id": "bca9138a",
   "metadata": {},
   "outputs": [],
   "source": [
    "def rearrange_data(data):\n",
    "    rearranged_data = []\n",
    "    record_group = False\n",
    "\n",
    "    '''\n",
    "    Insert your idea here.I share you one slolution during the class\n",
    "    '''\n",
    "\n",
    "    if record_group:\n",
    "        rearranged_data.append(group)\n",
    "\n",
    "    df = pd.DataFrame(rearranged_data).T\n",
    "    return df\n",
    "\n",
    "# Example: we work on the data from step 2.\n",
    "df = rearrange_data(data)\n",
    "print(df)"
   ]
  },
  {
   "cell_type": "markdown",
   "id": "bc0fc8f9",
   "metadata": {},
   "source": [
    "### 1. 4. apply the calculate_prediction_interval to the df data to calucath the 95PPU for each time step <a name=\"step1.4\"></a>"
   ]
  },
  {
   "cell_type": "code",
   "execution_count": null,
   "id": "e1672c40",
   "metadata": {},
   "outputs": [],
   "source": [
    "# Example: we work on the df from step 3.\n",
    "ppu = df.apply(calculate_prediction_interval, axis=1)\n",
    "#convert to dataframe format\n",
    "ppu = pd.DataFrame(ppu.tolist(), columns=['Lower Bound', 'Upper Bound']) \n",
    "print(ppu)"
   ]
  },
  {
   "cell_type": "markdown",
   "id": "6fdda28c",
   "metadata": {},
   "source": [
    "## 1.5. plot the ppu in 1.4 to visulize the entropy. <a name=\"step1.5\"></a>"
   ]
  },
  {
   "cell_type": "code",
   "execution_count": null,
   "id": "81f8adc1",
   "metadata": {},
   "outputs": [],
   "source": [
    "def plot_ppu(ppu_df):\n",
    "    plt.figure(figsize=(10, 6))\n",
    "\n",
    "    # Plot the prediction intervals\n",
    "    sns.lineplot(data=ppu_df, dashes=False)\n",
    "    \n",
    "    # Set labels and title\n",
    "    plt.xlabel('Time')\n",
    "    plt.ylabel('Value')\n",
    "    plt.show()\n",
    "# Example: use the ppu from step 1.4.\n",
    "plot_ppu(ppu)"
   ]
  },
  {
   "cell_type": "markdown",
   "id": "a8044257",
   "metadata": {},
   "source": [
    "### 1.6. preparation for batch processing  <a name=\"step1.6\"></a>\n",
    "- get_files: get the list of the files in a folder"
   ]
  },
  {
   "cell_type": "code",
   "execution_count": null,
   "id": "f58f804e",
   "metadata": {},
   "outputs": [],
   "source": [
    "def get_files(folder_path):\n",
    "    files = [file for file in os.listdir(folder_path) if file.endswith('.txt')]\n",
    "    return files\n",
    "\n",
    "# please define your folder path\n",
    "# example:\n",
    "folder = 'D:\\Python\\Code\\Lecture\\WFM_PRE\\AnalysisSWAT\\CUP95'\n",
    "files = get_files(folder)\n",
    "print(files)"
   ]
  },
  {
   "cell_type": "markdown",
   "id": "07bf0f22",
   "metadata": {},
   "source": [
    "## 2. Block 2, now you understand all step. We ensemble all functions together for batch processing."
   ]
  },
  {
   "cell_type": "code",
   "execution_count": null,
   "id": "8b5f9ee6",
   "metadata": {},
   "outputs": [],
   "source": [
    "import os\n",
    "import numpy as np\n",
    "import pandas as pd\n",
    "import matplotlib.pyplot as plt\n",
    "import seaborn as sns\n",
    "\n",
    "def get_files(folder_path):\n",
    "    files = [file for file in os.listdir(folder_path) if file.endswith('.txt')]\n",
    "    # Sort files numerically based on the number part of the file name\n",
    "    files_sorted = sorted(files, key=lambda x: int(x.split('_')[1].split('.')[0]))\n",
    "    return files_sorted\n",
    "\n",
    "def read_data(folder_path, file):\n",
    "    with open(os.path.join(folder_path, file), 'r') as file:\n",
    "        data = file.readlines()\n",
    "    return data\n",
    "\n",
    "def rearrange_data(data):\n",
    "    rearranged_data = []\n",
    "    record_group = False\n",
    "    '''\n",
    "    Insert your idea here.I share you one slolution during the class\n",
    "    '''\n",
    "    if record_group:\n",
    "        rearranged_data.append(group)\n",
    "\n",
    "    df = pd.DataFrame(rearranged_data).T\n",
    "    return df\n",
    "\n",
    "def calculate_prediction_interval(row):\n",
    "    mean = np.mean(row)\n",
    "    std_dev = np.std(row)\n",
    "    n = len(row)\n",
    "    z_score = 1.96  # For 95% confidence level\n",
    "    sem = std_dev / np.sqrt(n)  # Standard error of the mean (SEM)\n",
    "    lower_bound = mean - z_score * sem\n",
    "    upper_bound = mean + z_score * sem\n",
    "    return lower_bound, upper_bound\n",
    "\n",
    "def prediction_intervals(folder_path, files):\n",
    "    # List to store results for all files\n",
    "    all_results = []\n",
    "    # Iterate over each file in the given list of files\n",
    "    for file in files:\n",
    "        # Read data from the current file\n",
    "        data = read_data(folder_path, file)\n",
    "        # Rearrange the data into a DataFrame\n",
    "        df = rearrange_data(data)\n",
    "        # Calculate prediction intervals for each row in the DataFrame\n",
    "        prediction_intervals = df.apply(calculate_prediction_interval, axis=1)\n",
    "        # Convert prediction intervals to DataFrame format\n",
    "        result_df = pd.DataFrame(prediction_intervals.tolist(), columns=['Lower Bound', 'Upper Bound'])\n",
    "        # Append the result DataFrame to the list of all results\n",
    "        all_results.append(result_df)\n",
    "    # Return the list of DataFrames containing prediction intervals for all files\n",
    "    return all_results\n",
    "\n",
    "# Example: try the functions out \n",
    "folder = 'D:\\Python\\Code\\Lecture\\WFM_PRE\\AnalysisSWAT\\CUP95'\n",
    "files = get_files(folder)\n",
    "ppu_all = prediction_intervals(folder,files)\n",
    "print(ppu_all)"
   ]
  },
  {
   "cell_type": "markdown",
   "id": "949c0985",
   "metadata": {},
   "source": [
    "## More tasks: How about the plots for batch processed outputs?\n",
    "- Run and check the final encapsulated version shared via ZOOM channel.\n",
    "- I believe now you are capable to adapt the final version for different cases. \n",
    "- Have a try with e.g. the simluated **streamflow** outputs. **show me your tests outcomes via ZOOM Channel**."
   ]
  }
 ],
 "metadata": {
  "kernelspec": {
   "display_name": "Python 3 (ipykernel)",
   "language": "python",
   "name": "python3"
  },
  "language_info": {
   "codemirror_mode": {
    "name": "ipython",
    "version": 3
   },
   "file_extension": ".py",
   "mimetype": "text/x-python",
   "name": "python",
   "nbconvert_exporter": "python",
   "pygments_lexer": "ipython3",
   "version": "3.8.17"
  }
 },
 "nbformat": 4,
 "nbformat_minor": 5
}
